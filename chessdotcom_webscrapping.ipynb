{
 "cells": [
  {
   "cell_type": "code",
   "execution_count": null,
   "id": "0cbe5d0e",
   "metadata": {},
   "outputs": [],
   "source": [
    "import pprint\n",
    "import chessdotcom as cdc\n",
    "import requests\n",
    "import pandas as pd\n",
    "from time import sleep\n",
    "import sys\n",
    "import warnings\n",
    "warnings.filterwarnings(\"ignore\")"
   ]
  },
  {
   "cell_type": "markdown",
   "id": "b75a882b",
   "metadata": {},
   "source": [
    "# Objective: \n",
    "\n",
    "1) API webscrapping - use chess.com API to gather data on a user to track their past chess games and their opponents rating and location\n",
    "\n",
    "2) Data engineering - clean the data and ensure there are no duplicates, missing values or incorrect data types for data exploration and analysis"
   ]
  },
  {
   "cell_type": "code",
   "execution_count": null,
   "id": "66cb77f6",
   "metadata": {},
   "outputs": [],
   "source": [
    "def get_data(username,months):\n",
    "    data = cdc.get_player_game_archives(username).json\n",
    "    #initialising list to input data\n",
    "    l=[]\n",
    "    #from exporation of the pgn text file, we only want the first 21 columns\n",
    "    col_size=21\n",
    "    #initialising column names\n",
    "    col_names=[None]*col_size\n",
    "    for i in range(1,months+1):\n",
    "        #grabs the recent month's games\n",
    "        url = data[\"archives\"][-i]\n",
    "        games = requests.get(url).json()\n",
    "        #tells us how many games there are in the month\n",
    "        total_games=len(games[\"games\"])\n",
    "        \n",
    "        for j in range(total_games): \n",
    "            #the pgn contains the game data, however it comes as a long string data.\n",
    "            #lack of delimiter between value and column name, requires to be parsed differently\n",
    "            game = str(games[\"games\"][j][\"pgn\"]).replace(\"[\",\"\").replace(\"]\",\"\").split(\"\\n\")\n",
    "            #here we only colect the wanted columns\n",
    "            chess_data= game[0:col_size]\n",
    "            \n",
    "            for k in range(col_size):\n",
    "                #setting dataframe's columm names\n",
    "                if col_names[k]==None:\n",
    "                    col_names[k]=chess_data[k].split(\" \")[0]\n",
    "                #we want to get the data between the \"\"\n",
    "                chess_data[k]=chess_data[k].split('\"')[1].split('\"')[0]\n",
    "                \n",
    "            l.append(chess_data)\n",
    "            \n",
    "    dataset = pd.DataFrame(l, columns=col_names)\n",
    "    return dataset"
   ]
  },
  {
   "cell_type": "code",
   "execution_count": null,
   "id": "71de32bf",
   "metadata": {},
   "outputs": [],
   "source": [
    "def get_location(username):\n",
    "    profile=cdc.get_player_profile(username).json\n",
    "    url=profile[\"player\"][\"country\"]\n",
    "    location=requests.get(profile[\"player\"][\"country\"]).json()\n",
    "    return location[\"name\"]"
   ]
  },
  {
   "cell_type": "code",
   "execution_count": null,
   "id": "80afb200",
   "metadata": {},
   "outputs": [],
   "source": [
    "#we wish to examine 1 year of chess data\n",
    "months=24\n",
    "username=\"VenDez\"\n",
    "games=get_data(username,months)\n",
    "games.head()"
   ]
  },
  {
   "cell_type": "code",
   "execution_count": null,
   "id": "cea10e76",
   "metadata": {},
   "outputs": [],
   "source": [
    "games[\"Datetime\"]=games[\"UTCDate\"] + \" \" + games[\"UTCTime\"]\n",
    "\n",
    "#sipplifying termination status and splitting date into year, month and day\n",
    "for i in range(games.shape[0]):\n",
    "    games[\"Termination\"][i]=games[\"Termination\"][i].split()[-1]\n",
    "    \n",
    "games.head()"
   ]
  },
  {
   "cell_type": "code",
   "execution_count": null,
   "id": "2bbc9f56",
   "metadata": {},
   "outputs": [],
   "source": [
    "column_names=list(games.columns.values)\n",
    "print(column_names)"
   ]
  },
  {
   "cell_type": "code",
   "execution_count": null,
   "id": "1ba79fa3",
   "metadata": {},
   "outputs": [],
   "source": [
    "features=[\"White\",\"Black\",\"WhiteElo\",\"BlackElo\",\"Result\",\"Termination\",\"Datetime\"]\n",
    "games=games[features]\n",
    "games.head()"
   ]
  },
  {
   "cell_type": "code",
   "execution_count": null,
   "id": "33cd625e",
   "metadata": {},
   "outputs": [],
   "source": [
    "#getting the right datatypes for each columns\n",
    "games[\"Datetime\"]=pd.to_datetime(games[\"Datetime\"])\n",
    "games[\"WhiteElo\"]=pd.to_numeric(games[\"WhiteElo\"])\n",
    "games[\"BlackElo\"]=pd.to_numeric(games[\"BlackElo\"])\n",
    "games['Result'] = games['Result'].astype(\"category\")\n",
    "games['Termination'] = games['Termination'].astype(\"category\")"
   ]
  },
  {
   "cell_type": "code",
   "execution_count": null,
   "id": "d56f0aaa",
   "metadata": {},
   "outputs": [],
   "source": [
    "games.info()"
   ]
  },
  {
   "cell_type": "code",
   "execution_count": null,
   "id": "6dd4c147",
   "metadata": {},
   "outputs": [],
   "source": [
    "#seperating white and black games\n",
    "white = games.loc[games[\"White\"] == username]\n",
    "black = games.loc[games[\"Black\"] == username]\n",
    "\n",
    "#resetting index for location analysis\n",
    "black.reset_index(drop=True,inplace=True)\n",
    "white.reset_index(drop=True,inplace=True)"
   ]
  },
  {
   "cell_type": "code",
   "execution_count": null,
   "id": "a85939ec",
   "metadata": {},
   "outputs": [],
   "source": [
    "def location_analysis(data):\n",
    "    data[\"Location\"]=None\n",
    "    \n",
    "    for i in range(data.shape[0]):\n",
    "\n",
    "        if data[\"White\"][0]==username:\n",
    "            data[\"Location\"][i]=get_location(data[\"Black\"][i])\n",
    "        else:\n",
    "            data[\"Location\"][i]=get_location(data[\"White\"][i])\n",
    "            \n",
    "        #just to let me know how long is left\n",
    "        sys.stdout.write('\\r')\n",
    "        sys.stdout.write(\"progress = \" + str(round(i*100/data.shape[0],2)) + \"%\")\n",
    "        sys.stdout.flush()\n",
    "        sleep(0.25)\n",
    "    return"
   ]
  },
  {
   "cell_type": "code",
   "execution_count": null,
   "id": "a2276d70",
   "metadata": {},
   "outputs": [],
   "source": [
    "#optional as the api requests takes really long, but I want to see the locations of whom I played\n",
    "location_analysis(white)"
   ]
  },
  {
   "cell_type": "code",
   "execution_count": null,
   "id": "322434c4",
   "metadata": {},
   "outputs": [],
   "source": [
    "location_analysis(black)"
   ]
  },
  {
   "cell_type": "code",
   "execution_count": null,
   "id": "5f20cbb3",
   "metadata": {},
   "outputs": [],
   "source": [
    "#cleaning up dataset for white\n",
    "white=white.drop([\"White\",\"Black\"], axis=1)\n",
    "white.rename(columns={'WhiteElo':'Rating','BlackElo':'Opponent_Rating'}, inplace = True)\n",
    "white[\"Result\"]=white[\"Result\"].cat.rename_categories({\"1-0\":\"W\", \"1/2-1/2\": \"D\",\"0-1\":\"L\"})\n",
    "white.head()"
   ]
  },
  {
   "cell_type": "code",
   "execution_count": null,
   "id": "63f71803",
   "metadata": {},
   "outputs": [],
   "source": [
    "white.sort_values(by=['Datetime'],inplace=True, ascending=False)\n",
    "white.to_csv(\"white_games.csv\",index=False)"
   ]
  },
  {
   "cell_type": "code",
   "execution_count": null,
   "id": "de7cbfae",
   "metadata": {},
   "outputs": [],
   "source": [
    "#cleaning up dataset for black\n",
    "black=black.drop([\"White\",\"Black\"], axis=1)\n",
    "black.rename(columns={'BlackElo':'Rating','WhiteElo':'Opponent_Rating'}, inplace = True)\n",
    "black[\"Result\"]=black[\"Result\"].cat.rename_categories({\"1-0\":\"L\", \"1/2-1/2\": \"D\",\"0-1\":\"W\"})\n",
    "black[[\"Rating\", \"Opponent_Rating\",\"Result\",\"Termination\",\"Datetime\",\"Location\"]]\n",
    "black.head()"
   ]
  },
  {
   "cell_type": "code",
   "execution_count": null,
   "id": "61131ecd",
   "metadata": {},
   "outputs": [],
   "source": [
    "black.sort_values(by=['Datetime'],inplace=True, ascending=False)\n",
    "black.to_csv(\"black_games.csv\",index=False)"
   ]
  },
  {
   "cell_type": "code",
   "execution_count": null,
   "id": "be493815",
   "metadata": {},
   "outputs": [],
   "source": []
  },
  {
   "cell_type": "code",
   "execution_count": null,
   "id": "0311fee7",
   "metadata": {},
   "outputs": [],
   "source": []
  }
 ],
 "metadata": {
  "kernelspec": {
   "display_name": "Python 3 (ipykernel)",
   "language": "python",
   "name": "python3"
  },
  "language_info": {
   "codemirror_mode": {
    "name": "ipython",
    "version": 3
   },
   "file_extension": ".py",
   "mimetype": "text/x-python",
   "name": "python",
   "nbconvert_exporter": "python",
   "pygments_lexer": "ipython3",
   "version": "3.9.7"
  }
 },
 "nbformat": 4,
 "nbformat_minor": 5
}
